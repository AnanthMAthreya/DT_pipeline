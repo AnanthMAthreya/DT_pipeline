{
 "cells": [
  {
   "cell_type": "code",
   "execution_count": 2,
   "metadata": {},
   "outputs": [
    {
     "data": {
      "text/plain": [
       "<bound method NDFrame.head of       Age Attrition     BusinessTravel  DailyRate              Department  \\\n",
       "0      41       Yes      Travel_Rarely       1102                   Sales   \n",
       "1      49        No  Travel_Frequently        279  Research & Development   \n",
       "2      37       Yes      Travel_Rarely       1373  Research & Development   \n",
       "3      33        No  Travel_Frequently       1392  Research & Development   \n",
       "4      27        No      Travel_Rarely        591  Research & Development   \n",
       "...   ...       ...                ...        ...                     ...   \n",
       "1465   36        No  Travel_Frequently        884  Research & Development   \n",
       "1466   39        No      Travel_Rarely        613  Research & Development   \n",
       "1467   27        No      Travel_Rarely        155  Research & Development   \n",
       "1468   49        No  Travel_Frequently       1023                   Sales   \n",
       "1469   34        No      Travel_Rarely        628  Research & Development   \n",
       "\n",
       "      DistanceFromHome  Education EducationField  EmployeeCount  \\\n",
       "0                    1          2  Life Sciences              1   \n",
       "1                    8          1  Life Sciences              1   \n",
       "2                    2          2          Other              1   \n",
       "3                    3          4  Life Sciences              1   \n",
       "4                    2          1        Medical              1   \n",
       "...                ...        ...            ...            ...   \n",
       "1465                23          2        Medical              1   \n",
       "1466                 6          1        Medical              1   \n",
       "1467                 4          3  Life Sciences              1   \n",
       "1468                 2          3        Medical              1   \n",
       "1469                 8          3        Medical              1   \n",
       "\n",
       "      EmployeeNumber  ...  RelationshipSatisfaction StandardHours  \\\n",
       "0                  1  ...                         1            80   \n",
       "1                  2  ...                         4            80   \n",
       "2                  4  ...                         2            80   \n",
       "3                  5  ...                         3            80   \n",
       "4                  7  ...                         4            80   \n",
       "...              ...  ...                       ...           ...   \n",
       "1465            2061  ...                         3            80   \n",
       "1466            2062  ...                         1            80   \n",
       "1467            2064  ...                         2            80   \n",
       "1468            2065  ...                         4            80   \n",
       "1469            2068  ...                         1            80   \n",
       "\n",
       "      StockOptionLevel  TotalWorkingYears  TrainingTimesLastYear  \\\n",
       "0                    0                  8                      0   \n",
       "1                    1                 10                      3   \n",
       "2                    0                  7                      3   \n",
       "3                    0                  8                      3   \n",
       "4                    1                  6                      3   \n",
       "...                ...                ...                    ...   \n",
       "1465                 1                 17                      3   \n",
       "1466                 1                  9                      5   \n",
       "1467                 1                  6                      0   \n",
       "1468                 0                 17                      3   \n",
       "1469                 0                  6                      3   \n",
       "\n",
       "     WorkLifeBalance  YearsAtCompany YearsInCurrentRole  \\\n",
       "0                  1               6                  4   \n",
       "1                  3              10                  7   \n",
       "2                  3               0                  0   \n",
       "3                  3               8                  7   \n",
       "4                  3               2                  2   \n",
       "...              ...             ...                ...   \n",
       "1465               3               5                  2   \n",
       "1466               3               7                  7   \n",
       "1467               3               6                  2   \n",
       "1468               2               9                  6   \n",
       "1469               4               4                  3   \n",
       "\n",
       "      YearsSinceLastPromotion  YearsWithCurrManager  \n",
       "0                           0                     5  \n",
       "1                           1                     7  \n",
       "2                           0                     0  \n",
       "3                           3                     0  \n",
       "4                           2                     2  \n",
       "...                       ...                   ...  \n",
       "1465                        0                     3  \n",
       "1466                        1                     7  \n",
       "1467                        0                     3  \n",
       "1468                        0                     8  \n",
       "1469                        1                     2  \n",
       "\n",
       "[1470 rows x 35 columns]>"
      ]
     },
     "execution_count": 2,
     "metadata": {},
     "output_type": "execute_result"
    }
   ],
   "source": [
    "import pandas as pd\n",
    "data=pd.read_csv(\"dataset.csv\")\n",
    "data.head"
   ]
  },
  {
   "cell_type": "code",
   "execution_count": 3,
   "metadata": {},
   "outputs": [
    {
     "data": {
      "text/plain": [
       "Index(['Age', 'Attrition', 'BusinessTravel', 'DailyRate', 'Department',\n",
       "       'DistanceFromHome', 'Education', 'EducationField', 'EmployeeCount',\n",
       "       'EmployeeNumber', 'EnvironmentSatisfaction', 'Gender', 'HourlyRate',\n",
       "       'JobInvolvement', 'JobLevel', 'JobRole', 'JobSatisfaction',\n",
       "       'MaritalStatus', 'MonthlyIncome', 'MonthlyRate', 'NumCompaniesWorked',\n",
       "       'Over18', 'OverTime', 'PercentSalaryHike', 'PerformanceRating',\n",
       "       'RelationshipSatisfaction', 'StandardHours', 'StockOptionLevel',\n",
       "       'TotalWorkingYears', 'TrainingTimesLastYear', 'WorkLifeBalance',\n",
       "       'YearsAtCompany', 'YearsInCurrentRole', 'YearsSinceLastPromotion',\n",
       "       'YearsWithCurrManager'],\n",
       "      dtype='object')"
      ]
     },
     "execution_count": 3,
     "metadata": {},
     "output_type": "execute_result"
    }
   ],
   "source": [
    "data.columns"
   ]
  },
  {
   "cell_type": "code",
   "execution_count": 4,
   "metadata": {},
   "outputs": [
    {
     "data": {
      "text/plain": [
       "Attrition\n",
       "No     1233\n",
       "Yes     237\n",
       "Name: count, dtype: int64"
      ]
     },
     "execution_count": 4,
     "metadata": {},
     "output_type": "execute_result"
    }
   ],
   "source": [
    "data['Attrition'].value_counts()"
   ]
  },
  {
   "cell_type": "code",
   "execution_count": 5,
   "metadata": {},
   "outputs": [
    {
     "data": {
      "text/plain": [
       "<Axes: >"
      ]
     },
     "execution_count": 5,
     "metadata": {},
     "output_type": "execute_result"
    },
    {
     "data": {
      "image/png": "[encoded data removed]",
      "text/plain": [
       "<Figure size 640x480 with 2 Axes>"
      ]
     },
     "metadata": {},
     "output_type": "display_data"
    }
   ],
   "source": [
    "import seaborn as sb\n",
    "income=data[['DailyRate','MonthlyRate','MonthlyIncome']]\n",
    "corre=income.corr()\n",
    "sb.heatmap(corre,annot=True,cmap='coolwarm',linewidth=0.5)"
   ]
  },
  {
   "cell_type": "code",
   "execution_count": 1,
   "metadata": {},
   "outputs": [],
   "source": [
    "import kfp\n",
    "import kfp.components as comp\n",
    "import requests\n",
    "import kfp.dsl as dsl\n",
    "from kfp.dsl import pipeline, component,Dataset,Output,Input,Model\n",
    "@component(\n",
    "    base_image='python:3.13.1',\n",
    "    packages_to_install=['pandas==2.2.3', 'numpy==2.2.0']\n",
    ")\n",
    "def prepare_data(output_data: Output[Dataset]):\n",
    "    print(\"Inside prepare data component\")\n",
    "    data = pd.read_csv(\"https://raw.githubusercontent.com/AnanthMAthreya/DT_pipeline/main/dataset.csv\")\n",
    "    data['Attrition']=data['Attrition'].map({\"Yes\":1,\"No\":0}).astype(int)\n",
    "    data['BusinessTravel'] = data['BusinessTravel'].astype(str)\n",
    "    data['BusinessTravel'] = data['BusinessTravel'].str.strip()\n",
    "    data['BusinessTravel'] = data['BusinessTravel'].map(\n",
    "    {'Non-travel': 0, 'Travel_Rarely': 1, 'Travel_Frequently': 2})\n",
    "    data['BusinessTravel'] = data['BusinessTravel'].fillna(0)\n",
    "    data['Department']=data['Department'].map({'Sales':0, 'Research & Development':1, 'Human Resources':2}).astype(int)\n",
    "    data['EducationField']=data['EducationField'].map({'Life Sciences':1,'Other':0,'Medical':2,'Marketing':3,'Technical Degree':4,'Human Resources':5}).astype(int)\n",
    "    data['Gender']=data['Gender'].map({'Female':0, 'Male':1}).astype(int)\n",
    "    data['JobRole']=data['JobRole'].map({'Sales Executive':0, 'Research Scientist':1, 'Laboratory Technician':2,\n",
    "       'Manufacturing Director':3, 'Healthcare Representative':4, 'Manager':5,\n",
    "       'Sales Representative':6, 'Research Director':7, 'Human Resources':8}).astype(int)\n",
    "    data['MaritalStatus']=data['MaritalStatus'].map({'Single':0, 'Married':1, 'Divorced':2}).astype(int)\n",
    "    data['OverTime']=data['OverTime'].map({'Yes':1,'No':0}).astype(int)\n",
    "    data.to_csv(output_data.path, index=False)\n",
    "    print('The prepared data is saved in final_data.csv artifact')\n",
    "\n"
   ]
  },
  {
   "cell_type": "code",
   "execution_count": 2,
   "metadata": {},
   "outputs": [],
   "source": [
    "@component(base_image='python:3.13.1',packages_to_install=['pandas==2.2.3','numpy==2.2.0','scikit-learn==1.6.0'])\n",
    "def train_test_split(input_data: Input[Dataset], output_train_data: Output[Dataset], output_test_data: Output[Dataset]):\n",
    "    import pandas as pd\n",
    "    import numpy as np\n",
    "    from sklearn.model_selection import train_test_split as tts\n",
    "    print(\"---- Inside train_test_split component ----\")\n",
    "    data=pd.read_csv(input_data.path)\n",
    "    features=['Age','BusinessTravel','DailyRate', 'Department','DistanceFromHome', 'Education', 'EducationField', 'EnvironmentSatisfaction', 'Gender', 'HourlyRate', 'JobInvolvement', 'JobLevel', 'JobRole', 'JobSatisfaction', 'MaritalStatus', 'MonthlyIncome','MonthlyRate', 'NumCompaniesWorked', 'OverTime', 'PercentSalaryHike', 'PerformanceRating', 'RelationshipSatisfaction', 'StockOptionLevel', 'TotalWorkingYears','TrainingTimesLastYear','WorkLifeBalance','YearsAtCompany', 'YearsInCurrentRole', 'YearsSinceLastPromotion','YearsWithCurrManager']\n",
    "    X=data[features]\n",
    "    y=data['Attrition']\n",
    "    X_train,X_test,y_train,y_test=tts(X,y,test_size=0.3,stratify=y,random_state=47)\n",
    "    np.save(output_train_data.path + '/X_train.npy', X_train)\n",
    "    np.save(output_train_data.path + '/y_train.npy', y_train)\n",
    "    np.save(output_test_data.path + '/X_test.npy', X_test)\n",
    "    np.save(output_test_data.path + '/y_test.npy', y_test)\n",
    "    print(\"All the 4 parts have been saved\")\n",
    "\n"
   ]
  },
  {
   "cell_type": "code",
   "execution_count": 3,
   "metadata": {},
   "outputs": [],
   "source": [
    "@component(base_image='python:3.13.1',packages_to_install=['pandas==2.2.3','numpy==2.2.0','scikit-learn==1.6.0'])\n",
    "def train_decision_tree(input_train_data: Input[Dataset], output_model: Output[Model]):\n",
    "    import pandas as pd\n",
    "    import numpy as np\n",
    "    import pickle\n",
    "    from sklearn import tree\n",
    "    print(\"Inside decision-tree-classifier\")\n",
    "    X_train = np.load(input_train_data.path + '/X_train.npy', allow_pickle=True)\n",
    "    y_train = np.load(input_train_data.path + '/y_train.npy', allow_pickle=True)\n",
    "    model=tree.DecisionTreeClassifier(max_depth=3)\n",
    "    model.fit(X_train,y_train)\n",
    "    with open(output_model.path,'wb') as f:\n",
    "        pickle.dump(model, f)\n",
    "    print(\"The decision tree model is saved\")\n",
    "\n"
   ]
  },
  {
   "cell_type": "code",
   "execution_count": 4,
   "metadata": {},
   "outputs": [],
   "source": [
    "@component(base_image='python:3.13.1',packages_to_install=['pandas==2.2.3','numpy==2.2.0','scikit-learn==1.6.0'])\n",
    "def get_metrics(input_train_data: Input[Dataset], input_test_data: Input[Dataset], input_model: Input[Model]):\n",
    "    from sklearn.metrics import confusion_matrix as cm\n",
    "    import numpy as np\n",
    "    import pickle\n",
    "    X_train = np.load(input_train_data.path + '/X_train.npy', allow_pickle=True)\n",
    "    y_train = np.load(input_train_data.path + '/y_train.npy', allow_pickle=True)\n",
    "    X_test = np.load(input_test_data.path + '/X_test.npy', allow_pickle=True)\n",
    "    y_test = np.load(input_test_data.path + '/y_test.npy', allow_pickle=True)\n",
    "    with open(input_model.path,'rb') as f:\n",
    "        model = pickle.load(f)\n",
    "    y_pred_train=model.predict(X_train)\n",
    "    cm1=cm(y_train,y_pred_train)\n",
    "    acc1=(cm1[0,0]+cm1[1,1])/sum([sum(i) for i in cm1])\n",
    "    print(\"The train accuracy is \",acc1)\n",
    "    y_pred_test=model.predict(X_test)\n",
    "    cm2=cm(y_test,y_pred_test)\n",
    "    acc2=(cm2[0,0]+cm2[1,1])/sum([sum(i) for i in cm2])\n",
    "    print(\"The test accuracy is \",acc2)\n",
    "    print(\"THe difference in the accuracies is \",abs(acc1-acc2))\n",
    "    \n",
    "    "
   ]
  },
  {
   "cell_type": "code",
   "execution_count": 5,
   "metadata": {},
   "outputs": [],
   "source": [
    "@dsl.pipeline(\n",
    "   name='Decision tree classifier Kubeflow Demo Pipeline',\n",
    "   description='A sample pipeline that performs Decision tree classifier'\n",
    ")\n",
    "def dt_pipeline():\n",
    "    prepare_data_task = prepare_data()\n",
    "    train_test_split_task = train_test_split(input_data=prepare_data_task.outputs['output_data'])\n",
    "    train_decision_tree_task = train_decision_tree(input_train_data=train_test_split_task.outputs['output_train_data'])\n",
    "    get_metrics_task = get_metrics(\n",
    "        input_train_data=train_test_split_task.outputs['output_train_data'],\n",
    "        input_test_data=train_test_split_task.outputs['output_test_data'],\n",
    "        input_model=train_decision_tree_task.outputs['output_model']\n",
    "    )"
   ]
  },
  {
   "cell_type": "code",
   "execution_count": 6,
   "metadata": {},
   "outputs": [],
   "source": [
    "kfp.compiler.Compiler().compile(\n",
    "    pipeline_func=dt_pipeline,\n",
    "    package_path='dt_pipeline1.yaml')"
   ]
  },
  {
   "cell_type": "code",
   "execution_count": null,
   "metadata": {},
   "outputs": [
    {
     "name": "stdout",
     "output_type": "stream",
     "text": [
      "The train accuracy is  0.8561710398445093\n",
      "The test accuracy is  0.8390022675736961\n",
      "THe difference in the accuracies is  0.01716877227081315\n"
     ]
    }
   ],
   "source": [
    "from sklearn import tree\n",
    "from sklearn.metrics import confusion_matrix as cm\n",
    "import numpy as np\n",
    "X_train=np.load('X_train.npy',allow_pickle=True)\n",
    "y_train=np.load('y_train.npy',allow_pickle=True)\n",
    "features=['Age','BusinessTravel','DailyRate', 'Department','DistanceFromHome', 'Education', 'EducationField', 'EnvironmentSatisfaction', 'Gender', 'HourlyRate', 'JobInvolvement', 'JobLevel', 'JobRole', 'JobSatisfaction', 'MaritalStatus', 'MonthlyIncome','MonthlyRate', 'NumCompaniesWorked', 'OverTime', 'PercentSalaryHike', 'PerformanceRating', 'RelationshipSatisfaction', 'StockOptionLevel', 'TotalWorkingYears','TrainingTimesLastYear','WorkLifeBalance','YearsAtCompany', 'YearsInCurrentRole', 'YearsSinceLastPromotion','YearsWithCurrManager']\n",
    "model=tree.DecisionTreeClassifier(max_depth=3)\n",
    "model.fit(X_train,y_train)\n",
    "#print(tree.export_text(model, feature_names = features))\n",
    "X_test=np.load('X_test.npy',allow_pickle=True)\n",
    "y_test=np.load('y_test.npy',allow_pickle=True)\n",
    "y_pred_train=model.predict(X_train)\n",
    "cm1=cm(y_train,y_pred_train)\n",
    "acc1=(cm1[0,0]+cm1[1,1])/sum([sum(i) for i in cm1])\n",
    "print(\"The train accuracy is \",acc1)\n",
    "y_pred_test=model.predict(X_test)\n",
    "cm2=cm(y_test,y_pred_test)\n",
    "acc2=(cm2[0,0]+cm2[1,1])/sum([sum(i) for i in cm2])\n",
    "print(\"The test accuracy is \",acc2)\n",
    "print(\"THe difference in the accuracies is \",abs(acc1-acc2))\n",
    "\n",
    "\n"
   ]
  },
  {
   "cell_type": "code",
   "execution_count": null,
   "metadata": {},
   "outputs": [],
   "source": []
  }
 ],
 "metadata": {
  "kernelspec": {
   "display_name": "Python 3",
   "language": "python",
   "name": "python3"
  },
  "language_info": {
   "codemirror_mode": {
    "name": "ipython",
    "version": 3
   },
   "file_extension": ".py",
   "mimetype": "text/x-python",
   "name": "python",
   "nbconvert_exporter": "python",
   "pygments_lexer": "ipython3",
   "version": "3.13.1"
  }
 },
 "nbformat": 4,
 "nbformat_minor": 2
}
